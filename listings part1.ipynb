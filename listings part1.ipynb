{
  "nbformat": 4,
  "nbformat_minor": 0,
  "metadata": {
    "colab": {
      "name": "listings.ipynb",
      "provenance": [],
      "collapsed_sections": []
    },
    "kernelspec": {
      "name": "python3",
      "display_name": "Python 3"
    },
    "language_info": {
      "name": "python"
    }
  },
  "cells": [
    {
      "cell_type": "code",
      "metadata": {
        "colab": {
          "resources": {
            "http://localhost:8080/nbextensions/google.colab/files.js": {
              "data": "Ly8gQ29weXJpZ2h0IDIwMTcgR29vZ2xlIExMQwovLwovLyBMaWNlbnNlZCB1bmRlciB0aGUgQXBhY2hlIExpY2Vuc2UsIFZlcnNpb24gMi4wICh0aGUgIkxpY2Vuc2UiKTsKLy8geW91IG1heSBub3QgdXNlIHRoaXMgZmlsZSBleGNlcHQgaW4gY29tcGxpYW5jZSB3aXRoIHRoZSBMaWNlbnNlLgovLyBZb3UgbWF5IG9idGFpbiBhIGNvcHkgb2YgdGhlIExpY2Vuc2UgYXQKLy8KLy8gICAgICBodHRwOi8vd3d3LmFwYWNoZS5vcmcvbGljZW5zZXMvTElDRU5TRS0yLjAKLy8KLy8gVW5sZXNzIHJlcXVpcmVkIGJ5IGFwcGxpY2FibGUgbGF3IG9yIGFncmVlZCB0byBpbiB3cml0aW5nLCBzb2Z0d2FyZQovLyBkaXN0cmlidXRlZCB1bmRlciB0aGUgTGljZW5zZSBpcyBkaXN0cmlidXRlZCBvbiBhbiAiQVMgSVMiIEJBU0lTLAovLyBXSVRIT1VUIFdBUlJBTlRJRVMgT1IgQ09ORElUSU9OUyBPRiBBTlkgS0lORCwgZWl0aGVyIGV4cHJlc3Mgb3IgaW1wbGllZC4KLy8gU2VlIHRoZSBMaWNlbnNlIGZvciB0aGUgc3BlY2lmaWMgbGFuZ3VhZ2UgZ292ZXJuaW5nIHBlcm1pc3Npb25zIGFuZAovLyBsaW1pdGF0aW9ucyB1bmRlciB0aGUgTGljZW5zZS4KCi8qKgogKiBAZmlsZW92ZXJ2aWV3IEhlbHBlcnMgZm9yIGdvb2dsZS5jb2xhYiBQeXRob24gbW9kdWxlLgogKi8KKGZ1bmN0aW9uKHNjb3BlKSB7CmZ1bmN0aW9uIHNwYW4odGV4dCwgc3R5bGVBdHRyaWJ1dGVzID0ge30pIHsKICBjb25zdCBlbGVtZW50ID0gZG9jdW1lbnQuY3JlYXRlRWxlbWVudCgnc3BhbicpOwogIGVsZW1lbnQudGV4dENvbnRlbnQgPSB0ZXh0OwogIGZvciAoY29uc3Qga2V5IG9mIE9iamVjdC5rZXlzKHN0eWxlQXR0cmlidXRlcykpIHsKICAgIGVsZW1lbnQuc3R5bGVba2V5XSA9IHN0eWxlQXR0cmlidXRlc1trZXldOwogIH0KICByZXR1cm4gZWxlbWVudDsKfQoKLy8gTWF4IG51bWJlciBvZiBieXRlcyB3aGljaCB3aWxsIGJlIHVwbG9hZGVkIGF0IGEgdGltZS4KY29uc3QgTUFYX1BBWUxPQURfU0laRSA9IDEwMCAqIDEwMjQ7CgpmdW5jdGlvbiBfdXBsb2FkRmlsZXMoaW5wdXRJZCwgb3V0cHV0SWQpIHsKICBjb25zdCBzdGVwcyA9IHVwbG9hZEZpbGVzU3RlcChpbnB1dElkLCBvdXRwdXRJZCk7CiAgY29uc3Qgb3V0cHV0RWxlbWVudCA9IGRvY3VtZW50LmdldEVsZW1lbnRCeUlkKG91dHB1dElkKTsKICAvLyBDYWNoZSBzdGVwcyBvbiB0aGUgb3V0cHV0RWxlbWVudCB0byBtYWtlIGl0IGF2YWlsYWJsZSBmb3IgdGhlIG5leHQgY2FsbAogIC8vIHRvIHVwbG9hZEZpbGVzQ29udGludWUgZnJvbSBQeXRob24uCiAgb3V0cHV0RWxlbWVudC5zdGVwcyA9IHN0ZXBzOwoKICByZXR1cm4gX3VwbG9hZEZpbGVzQ29udGludWUob3V0cHV0SWQpOwp9CgovLyBUaGlzIGlzIHJvdWdobHkgYW4gYXN5bmMgZ2VuZXJhdG9yIChub3Qgc3VwcG9ydGVkIGluIHRoZSBicm93c2VyIHlldCksCi8vIHdoZXJlIHRoZXJlIGFyZSBtdWx0aXBsZSBhc3luY2hyb25vdXMgc3RlcHMgYW5kIHRoZSBQeXRob24gc2lkZSBpcyBnb2luZwovLyB0byBwb2xsIGZvciBjb21wbGV0aW9uIG9mIGVhY2ggc3RlcC4KLy8gVGhpcyB1c2VzIGEgUHJvbWlzZSB0byBibG9jayB0aGUgcHl0aG9uIHNpZGUgb24gY29tcGxldGlvbiBvZiBlYWNoIHN0ZXAsCi8vIHRoZW4gcGFzc2VzIHRoZSByZXN1bHQgb2YgdGhlIHByZXZpb3VzIHN0ZXAgYXMgdGhlIGlucHV0IHRvIHRoZSBuZXh0IHN0ZXAuCmZ1bmN0aW9uIF91cGxvYWRGaWxlc0NvbnRpbnVlKG91dHB1dElkKSB7CiAgY29uc3Qgb3V0cHV0RWxlbWVudCA9IGRvY3VtZW50LmdldEVsZW1lbnRCeUlkKG91dHB1dElkKTsKICBjb25zdCBzdGVwcyA9IG91dHB1dEVsZW1lbnQuc3RlcHM7CgogIGNvbnN0IG5leHQgPSBzdGVwcy5uZXh0KG91dHB1dEVsZW1lbnQubGFzdFByb21pc2VWYWx1ZSk7CiAgcmV0dXJuIFByb21pc2UucmVzb2x2ZShuZXh0LnZhbHVlLnByb21pc2UpLnRoZW4oKHZhbHVlKSA9PiB7CiAgICAvLyBDYWNoZSB0aGUgbGFzdCBwcm9taXNlIHZhbHVlIHRvIG1ha2UgaXQgYXZhaWxhYmxlIHRvIHRoZSBuZXh0CiAgICAvLyBzdGVwIG9mIHRoZSBnZW5lcmF0b3IuCiAgICBvdXRwdXRFbGVtZW50Lmxhc3RQcm9taXNlVmFsdWUgPSB2YWx1ZTsKICAgIHJldHVybiBuZXh0LnZhbHVlLnJlc3BvbnNlOwogIH0pOwp9CgovKioKICogR2VuZXJhdG9yIGZ1bmN0aW9uIHdoaWNoIGlzIGNhbGxlZCBiZXR3ZWVuIGVhY2ggYXN5bmMgc3RlcCBvZiB0aGUgdXBsb2FkCiAqIHByb2Nlc3MuCiAqIEBwYXJhbSB7c3RyaW5nfSBpbnB1dElkIEVsZW1lbnQgSUQgb2YgdGhlIGlucHV0IGZpbGUgcGlja2VyIGVsZW1lbnQuCiAqIEBwYXJhbSB7c3RyaW5nfSBvdXRwdXRJZCBFbGVtZW50IElEIG9mIHRoZSBvdXRwdXQgZGlzcGxheS4KICogQHJldHVybiB7IUl0ZXJhYmxlPCFPYmplY3Q+fSBJdGVyYWJsZSBvZiBuZXh0IHN0ZXBzLgogKi8KZnVuY3Rpb24qIHVwbG9hZEZpbGVzU3RlcChpbnB1dElkLCBvdXRwdXRJZCkgewogIGNvbnN0IGlucHV0RWxlbWVudCA9IGRvY3VtZW50LmdldEVsZW1lbnRCeUlkKGlucHV0SWQpOwogIGlucHV0RWxlbWVudC5kaXNhYmxlZCA9IGZhbHNlOwoKICBjb25zdCBvdXRwdXRFbGVtZW50ID0gZG9jdW1lbnQuZ2V0RWxlbWVudEJ5SWQob3V0cHV0SWQpOwogIG91dHB1dEVsZW1lbnQuaW5uZXJIVE1MID0gJyc7CgogIGNvbnN0IHBpY2tlZFByb21pc2UgPSBuZXcgUHJvbWlzZSgocmVzb2x2ZSkgPT4gewogICAgaW5wdXRFbGVtZW50LmFkZEV2ZW50TGlzdGVuZXIoJ2NoYW5nZScsIChlKSA9PiB7CiAgICAgIHJlc29sdmUoZS50YXJnZXQuZmlsZXMpOwogICAgfSk7CiAgfSk7CgogIGNvbnN0IGNhbmNlbCA9IGRvY3VtZW50LmNyZWF0ZUVsZW1lbnQoJ2J1dHRvbicpOwogIGlucHV0RWxlbWVudC5wYXJlbnRFbGVtZW50LmFwcGVuZENoaWxkKGNhbmNlbCk7CiAgY2FuY2VsLnRleHRDb250ZW50ID0gJ0NhbmNlbCB1cGxvYWQnOwogIGNvbnN0IGNhbmNlbFByb21pc2UgPSBuZXcgUHJvbWlzZSgocmVzb2x2ZSkgPT4gewogICAgY2FuY2VsLm9uY2xpY2sgPSAoKSA9PiB7CiAgICAgIHJlc29sdmUobnVsbCk7CiAgICB9OwogIH0pOwoKICAvLyBXYWl0IGZvciB0aGUgdXNlciB0byBwaWNrIHRoZSBmaWxlcy4KICBjb25zdCBmaWxlcyA9IHlpZWxkIHsKICAgIHByb21pc2U6IFByb21pc2UucmFjZShbcGlja2VkUHJvbWlzZSwgY2FuY2VsUHJvbWlzZV0pLAogICAgcmVzcG9uc2U6IHsKICAgICAgYWN0aW9uOiAnc3RhcnRpbmcnLAogICAgfQogIH07CgogIGNhbmNlbC5yZW1vdmUoKTsKCiAgLy8gRGlzYWJsZSB0aGUgaW5wdXQgZWxlbWVudCBzaW5jZSBmdXJ0aGVyIHBpY2tzIGFyZSBub3QgYWxsb3dlZC4KICBpbnB1dEVsZW1lbnQuZGlzYWJsZWQgPSB0cnVlOwoKICBpZiAoIWZpbGVzKSB7CiAgICByZXR1cm4gewogICAgICByZXNwb25zZTogewogICAgICAgIGFjdGlvbjogJ2NvbXBsZXRlJywKICAgICAgfQogICAgfTsKICB9CgogIGZvciAoY29uc3QgZmlsZSBvZiBmaWxlcykgewogICAgY29uc3QgbGkgPSBkb2N1bWVudC5jcmVhdGVFbGVtZW50KCdsaScpOwogICAgbGkuYXBwZW5kKHNwYW4oZmlsZS5uYW1lLCB7Zm9udFdlaWdodDogJ2JvbGQnfSkpOwogICAgbGkuYXBwZW5kKHNwYW4oCiAgICAgICAgYCgke2ZpbGUudHlwZSB8fCAnbi9hJ30pIC0gJHtmaWxlLnNpemV9IGJ5dGVzLCBgICsKICAgICAgICBgbGFzdCBtb2RpZmllZDogJHsKICAgICAgICAgICAgZmlsZS5sYXN0TW9kaWZpZWREYXRlID8gZmlsZS5sYXN0TW9kaWZpZWREYXRlLnRvTG9jYWxlRGF0ZVN0cmluZygpIDoKICAgICAgICAgICAgICAgICAgICAgICAgICAgICAgICAgICAgJ24vYSd9IC0gYCkpOwogICAgY29uc3QgcGVyY2VudCA9IHNwYW4oJzAlIGRvbmUnKTsKICAgIGxpLmFwcGVuZENoaWxkKHBlcmNlbnQpOwoKICAgIG91dHB1dEVsZW1lbnQuYXBwZW5kQ2hpbGQobGkpOwoKICAgIGNvbnN0IGZpbGVEYXRhUHJvbWlzZSA9IG5ldyBQcm9taXNlKChyZXNvbHZlKSA9PiB7CiAgICAgIGNvbnN0IHJlYWRlciA9IG5ldyBGaWxlUmVhZGVyKCk7CiAgICAgIHJlYWRlci5vbmxvYWQgPSAoZSkgPT4gewogICAgICAgIHJlc29sdmUoZS50YXJnZXQucmVzdWx0KTsKICAgICAgfTsKICAgICAgcmVhZGVyLnJlYWRBc0FycmF5QnVmZmVyKGZpbGUpOwogICAgfSk7CiAgICAvLyBXYWl0IGZvciB0aGUgZGF0YSB0byBiZSByZWFkeS4KICAgIGxldCBmaWxlRGF0YSA9IHlpZWxkIHsKICAgICAgcHJvbWlzZTogZmlsZURhdGFQcm9taXNlLAogICAgICByZXNwb25zZTogewogICAgICAgIGFjdGlvbjogJ2NvbnRpbnVlJywKICAgICAgfQogICAgfTsKCiAgICAvLyBVc2UgYSBjaHVua2VkIHNlbmRpbmcgdG8gYXZvaWQgbWVzc2FnZSBzaXplIGxpbWl0cy4gU2VlIGIvNjIxMTU2NjAuCiAgICBsZXQgcG9zaXRpb24gPSAwOwogICAgZG8gewogICAgICBjb25zdCBsZW5ndGggPSBNYXRoLm1pbihmaWxlRGF0YS5ieXRlTGVuZ3RoIC0gcG9zaXRpb24sIE1BWF9QQVlMT0FEX1NJWkUpOwogICAgICBjb25zdCBjaHVuayA9IG5ldyBVaW50OEFycmF5KGZpbGVEYXRhLCBwb3NpdGlvbiwgbGVuZ3RoKTsKICAgICAgcG9zaXRpb24gKz0gbGVuZ3RoOwoKICAgICAgY29uc3QgYmFzZTY0ID0gYnRvYShTdHJpbmcuZnJvbUNoYXJDb2RlLmFwcGx5KG51bGwsIGNodW5rKSk7CiAgICAgIHlpZWxkIHsKICAgICAgICByZXNwb25zZTogewogICAgICAgICAgYWN0aW9uOiAnYXBwZW5kJywKICAgICAgICAgIGZpbGU6IGZpbGUubmFtZSwKICAgICAgICAgIGRhdGE6IGJhc2U2NCwKICAgICAgICB9LAogICAgICB9OwoKICAgICAgbGV0IHBlcmNlbnREb25lID0gZmlsZURhdGEuYnl0ZUxlbmd0aCA9PT0gMCA/CiAgICAgICAgICAxMDAgOgogICAgICAgICAgTWF0aC5yb3VuZCgocG9zaXRpb24gLyBmaWxlRGF0YS5ieXRlTGVuZ3RoKSAqIDEwMCk7CiAgICAgIHBlcmNlbnQudGV4dENvbnRlbnQgPSBgJHtwZXJjZW50RG9uZX0lIGRvbmVgOwoKICAgIH0gd2hpbGUgKHBvc2l0aW9uIDwgZmlsZURhdGEuYnl0ZUxlbmd0aCk7CiAgfQoKICAvLyBBbGwgZG9uZS4KICB5aWVsZCB7CiAgICByZXNwb25zZTogewogICAgICBhY3Rpb246ICdjb21wbGV0ZScsCiAgICB9CiAgfTsKfQoKc2NvcGUuZ29vZ2xlID0gc2NvcGUuZ29vZ2xlIHx8IHt9OwpzY29wZS5nb29nbGUuY29sYWIgPSBzY29wZS5nb29nbGUuY29sYWIgfHwge307CnNjb3BlLmdvb2dsZS5jb2xhYi5fZmlsZXMgPSB7CiAgX3VwbG9hZEZpbGVzLAogIF91cGxvYWRGaWxlc0NvbnRpbnVlLAp9Owp9KShzZWxmKTsK",
              "ok": true,
              "headers": [
                [
                  "content-type",
                  "application/javascript"
                ]
              ],
              "status": 200,
              "status_text": ""
            }
          },
          "base_uri": "https://localhost:8080/",
          "height": 73
        },
        "id": "1dyslHne__lR",
        "outputId": "d2b53808-55ca-422b-a370-cd9788f590ae"
      },
      "source": [
        "from google.colab import files\n",
        "df = files.upload()"
      ],
      "execution_count": 1,
      "outputs": [
        {
          "output_type": "display_data",
          "data": {
            "text/html": [
              "\n",
              "     <input type=\"file\" id=\"files-43c5d8bb-a40b-45cb-a393-ce9100eb019b\" name=\"files[]\" multiple disabled\n",
              "        style=\"border:none\" />\n",
              "     <output id=\"result-43c5d8bb-a40b-45cb-a393-ce9100eb019b\">\n",
              "      Upload widget is only available when the cell has been executed in the\n",
              "      current browser session. Please rerun this cell to enable.\n",
              "      </output>\n",
              "      <script src=\"/nbextensions/google.colab/files.js\"></script> "
            ],
            "text/plain": [
              "<IPython.core.display.HTML object>"
            ]
          },
          "metadata": {
            "tags": []
          }
        },
        {
          "output_type": "stream",
          "text": [
            "Saving listings.csv to listings.csv\n"
          ],
          "name": "stdout"
        }
      ]
    },
    {
      "cell_type": "code",
      "metadata": {
        "id": "cvD7jbFDA8GP"
      },
      "source": [
        "import pandas as pd\n",
        "import numpy as np\n",
        "from matplotlib import pyplot as plt\n",
        "import io\n",
        "import seaborn as sns"
      ],
      "execution_count": 2,
      "outputs": []
    },
    {
      "cell_type": "code",
      "metadata": {
        "id": "ScMZeqXxBJ6r"
      },
      "source": [
        "myListings = pd.read_csv(io.StringIO(df['listings.csv'].decode('utf-8')))"
      ],
      "execution_count": 3,
      "outputs": []
    },
    {
      "cell_type": "code",
      "metadata": {
        "id": "8lq2KXjiJJkY",
        "colab": {
          "base_uri": "https://localhost:8080/"
        },
        "outputId": "179c6de7-ed22-4777-b3fc-a0b5f2f8f4fb"
      },
      "source": [
        "myListings.info()"
      ],
      "execution_count": 4,
      "outputs": [
        {
          "output_type": "stream",
          "text": [
            "<class 'pandas.core.frame.DataFrame'>\n",
            "RangeIndex: 15542 entries, 0 to 15541\n",
            "Data columns (total 71 columns):\n",
            " #   Column                                        Non-Null Count  Dtype  \n",
            "---  ------                                        --------------  -----  \n",
            " 0   id                                            15542 non-null  int64  \n",
            " 1   listing_url                                   15542 non-null  object \n",
            " 2   name                                          15541 non-null  object \n",
            " 3   description                                   14988 non-null  object \n",
            " 4   neighborhood_overview                         9703 non-null   object \n",
            " 5   picture_url                                   15542 non-null  object \n",
            " 6   host_id                                       15542 non-null  int64  \n",
            " 7   host_url                                      15542 non-null  object \n",
            " 8   host_name                                     15125 non-null  object \n",
            " 9   host_since                                    15125 non-null  object \n",
            " 10  host_location                                 15117 non-null  object \n",
            " 11  host_about                                    8389 non-null   object \n",
            " 12  host_response_time                            8403 non-null   object \n",
            " 13  host_response_rate                            8403 non-null   object \n",
            " 14  host_acceptance_rate                          9498 non-null   object \n",
            " 15  host_is_superhost                             15125 non-null  object \n",
            " 16  host_thumbnail_url                            15125 non-null  object \n",
            " 17  host_picture_url                              15125 non-null  object \n",
            " 18  host_neighbourhood                            11075 non-null  object \n",
            " 19  host_listings_count                           15125 non-null  float64\n",
            " 20  host_total_listings_count                     15125 non-null  float64\n",
            " 21  host_verifications                            15542 non-null  object \n",
            " 22  host_has_profile_pic                          15125 non-null  object \n",
            " 23  host_identity_verified                        15125 non-null  object \n",
            " 24  neighbourhood                                 9703 non-null   object \n",
            " 25  neighbourhood_cleansed                        15542 non-null  object \n",
            " 26  latitude                                      15542 non-null  float64\n",
            " 27  longitude                                     15542 non-null  float64\n",
            " 28  property_type                                 15542 non-null  object \n",
            " 29  room_type                                     15542 non-null  object \n",
            " 30  accommodates                                  15542 non-null  int64  \n",
            " 31  bathrooms                                     0 non-null      float64\n",
            " 32  bathrooms_text                                15526 non-null  object \n",
            " 33  bedrooms                                      14361 non-null  float64\n",
            " 34  beds                                          15321 non-null  float64\n",
            " 35  amenities                                     15542 non-null  object \n",
            " 36  price                                         15542 non-null  object \n",
            " 37  minimum_nights                                15542 non-null  int64  \n",
            " 38  maximum_nights                                15542 non-null  int64  \n",
            " 39  minimum_minimum_nights                        15542 non-null  int64  \n",
            " 40  maximum_minimum_nights                        15542 non-null  int64  \n",
            " 41  minimum_maximum_nights                        15542 non-null  int64  \n",
            " 42  maximum_maximum_nights                        15542 non-null  int64  \n",
            " 43  minimum_nights_avg_ntm                        15542 non-null  float64\n",
            " 44  maximum_nights_avg_ntm                        15542 non-null  float64\n",
            " 45  calendar_updated                              0 non-null      float64\n",
            " 46  has_availability                              15542 non-null  object \n",
            " 47  availability_30                               15542 non-null  int64  \n",
            " 48  availability_60                               15542 non-null  int64  \n",
            " 49  availability_90                               15542 non-null  int64  \n",
            " 50  availability_365                              15542 non-null  int64  \n",
            " 51  calendar_last_scraped                         15542 non-null  object \n",
            " 52  number_of_reviews                             15542 non-null  int64  \n",
            " 53  number_of_reviews_ltm                         15542 non-null  int64  \n",
            " 54  number_of_reviews_l30d                        15542 non-null  int64  \n",
            " 55  first_review                                  11952 non-null  object \n",
            " 56  last_review                                   11952 non-null  object \n",
            " 57  review_scores_rating                          11767 non-null  float64\n",
            " 58  review_scores_accuracy                        11736 non-null  float64\n",
            " 59  review_scores_cleanliness                     11738 non-null  float64\n",
            " 60  review_scores_checkin                         11736 non-null  float64\n",
            " 61  review_scores_communication                   11737 non-null  float64\n",
            " 62  review_scores_location                        11736 non-null  float64\n",
            " 63  review_scores_value                           11736 non-null  float64\n",
            " 64  license                                       4105 non-null   object \n",
            " 65  instant_bookable                              15542 non-null  object \n",
            " 66  calculated_host_listings_count                15542 non-null  int64  \n",
            " 67  calculated_host_listings_count_entire_homes   15542 non-null  int64  \n",
            " 68  calculated_host_listings_count_private_rooms  15542 non-null  int64  \n",
            " 69  calculated_host_listings_count_shared_rooms   15542 non-null  int64  \n",
            " 70  reviews_per_month                             11952 non-null  float64\n",
            "dtypes: float64(18), int64(20), object(33)\n",
            "memory usage: 8.4+ MB\n"
          ],
          "name": "stdout"
        }
      ]
    },
    {
      "cell_type": "markdown",
      "metadata": {
        "id": "cKrCQx2FbWm0"
      },
      "source": [
        "Data cleaning and EDA"
      ]
    },
    {
      "cell_type": "code",
      "metadata": {
        "id": "_0PFgRhjCj-2"
      },
      "source": [
        "#deleting irrelevant attributes\n",
        "myListings = myListings.drop(columns=['name', 'listing_url','picture_url', 'host_url', 'host_name', 'host_location', 'host_about', 'host_thumbnail_url', \n",
        "                         'host_picture_url', 'host_neighbourhood', 'host_location', 'host_total_listings_count', 'neighbourhood', 'host_listings_count',\n",
        "                         'property_type', 'bathrooms', 'maximum_nights','minimum_minimum_nights', 'maximum_minimum_nights', 'minimum_maximum_nights',\n",
        "                         'maximum_maximum_nights', 'minimum_nights_avg_ntm', 'maximum_nights_avg_ntm', 'calendar_updated',\n",
        "                         'calendar_last_scraped', 'calculated_host_listings_count_entire_homes', 'calculated_host_listings_count_private_rooms',\n",
        "                         'calculated_host_listings_count_shared_rooms', 'license', 'has_availability', 'availability_30', 'availability_60', \n",
        "                         'availability_90', 'neighborhood_overview', 'description', 'latitude', 'longitude'])"
      ],
      "execution_count": 5,
      "outputs": []
    },
    {
      "cell_type": "code",
      "metadata": {
        "id": "QkxhTTShNaGr"
      },
      "source": [
        "#converting the price to numeric\n",
        "myListings.price = myListings.price.str.replace('$','')\n",
        "myListings.price = myListings.price.str.replace(',','')\n",
        "myListings.price = myListings.price.astype(float)"
      ],
      "execution_count": 6,
      "outputs": []
    },
    {
      "cell_type": "code",
      "metadata": {
        "id": "Ajxcv8iQTd2k"
      },
      "source": [
        "#converting 'host_is_superhost', 'host_has_profile_pic', 'host_identity_verified', and 'instant_bookable' columns to boolean\n",
        "myListings.host_is_superhost = myListings.host_is_superhost.replace({'t': 1, 'f': 0})\n",
        "myListings.host_has_profile_pic = myListings.host_has_profile_pic.replace({'t': 1, 'f': 0})\n",
        "myListings.host_identity_verified = myListings.host_identity_verified.replace({'t': 1, 'f': 0})\n",
        "myListings.instant_bookable = myListings.instant_bookable.replace({'t': 1, 'f': 0})\n"
      ],
      "execution_count": 7,
      "outputs": []
    },
    {
      "cell_type": "code",
      "metadata": {
        "id": "6LX-dNOXdH18"
      },
      "source": [
        "#converting 'host_since', 'first_review' 'last_review' to datetime\n",
        "from datetime import datetime\n",
        "myListings.host_since = pd.to_datetime(myListings.host_since)\n",
        "myListings.last_review = pd.to_datetime(myListings.last_review)\n",
        "myListings.first_review = pd.to_datetime(myListings.first_review)"
      ],
      "execution_count": 8,
      "outputs": []
    },
    {
      "cell_type": "code",
      "metadata": {
        "id": "WHwl8uMaiawQ"
      },
      "source": [
        "#removing the listings for which the last review was posted before 2019, chances are high that these ones are inactive\n",
        "myListings = myListings[myListings.last_review  > '2019-01-01']"
      ],
      "execution_count": 9,
      "outputs": []
    },
    {
      "cell_type": "markdown",
      "metadata": {
        "id": "x6WyhLV0bdok"
      },
      "source": [
        "The 3 variables 'host_response_time', 'host_response_rate', and 'host_acceptance_rate' are highly correlated and may even define the superhost status. Therefore, they will be eliminated."
      ]
    },
    {
      "cell_type": "code",
      "metadata": {
        "colab": {
          "base_uri": "https://localhost:8080/",
          "height": 369
        },
        "id": "eBAVrftLl3tJ",
        "outputId": "2ab4d417-1f21-4c70-929b-183d3c203e8a"
      },
      "source": [
        "#relationship between superhost status and host_response_time\n",
        "(myListings[myListings.host_is_superhost==1]['host_response_time'].value_counts()*100/sum(myListings.host_is_superhost==1)).plot(kind='bar')"
      ],
      "execution_count": 10,
      "outputs": [
        {
          "output_type": "execute_result",
          "data": {
            "text/plain": [
              "<matplotlib.axes._subplots.AxesSubplot at 0x7f22392ce5d0>"
            ]
          },
          "metadata": {
            "tags": []
          },
          "execution_count": 10
        },
        {
          "output_type": "display_data",
          "data": {
            "image/png": "[encoded data removed]",
            "text/plain": [
              "<Figure size 432x288 with 1 Axes>"
            ]
          },
          "metadata": {
            "tags": [],
            "needs_background": "light"
          }
        }
      ]
    },
    {
      "cell_type": "code",
      "metadata": {
        "colab": {
          "base_uri": "https://localhost:8080/",
          "height": 369
        },
        "id": "IJgUmfaxl07b",
        "outputId": "c7ef9370-c5d9-4309-c45c-73b9e47e30f3"
      },
      "source": [
        "(myListings[myListings.host_is_superhost==0]['host_response_time'].value_counts()*100/sum(myListings.host_is_superhost==0)).plot(kind='bar')"
      ],
      "execution_count": 11,
      "outputs": [
        {
          "output_type": "execute_result",
          "data": {
            "text/plain": [
              "<matplotlib.axes._subplots.AxesSubplot at 0x7f223a3cbe90>"
            ]
          },
          "metadata": {
            "tags": []
          },
          "execution_count": 11
        },
        {
          "output_type": "display_data",
          "data": {
            "image/png": "[encoded data removed]",
            "text/plain": [
              "<Figure size 432x288 with 1 Axes>"
            ]
          },
          "metadata": {
            "tags": [],
            "needs_background": "light"
          }
        }
      ]
    },
    {
      "cell_type": "code",
      "metadata": {
        "id": "s8gUFOx6l3zl"
      },
      "source": [
        "#removing the 3 variables 'host_response_time', 'host_response_rate', and 'host_acceptance_rate'\n",
        "myListings = myListings.drop(columns=['host_response_time', 'host_response_rate', 'host_acceptance_rate'])"
      ],
      "execution_count": 12,
      "outputs": []
    },
    {
      "cell_type": "code",
      "metadata": {
        "colab": {
          "base_uri": "https://localhost:8080/",
          "height": 297
        },
        "id": "jQStpEAfJ-zU",
        "outputId": "76d6f56d-6904-44ed-d673-06f0603f10c5"
      },
      "source": [
        "#price distribution depending on whether the host is superhost\n",
        "myListings.loc[(myListings.price <= 655)].pivot(columns = 'host_is_superhost', values = 'price').plot.hist(stacked = True, bins=100)\n",
        "plt.xlabel('Listing price in $')"
      ],
      "execution_count": 14,
      "outputs": [
        {
          "output_type": "execute_result",
          "data": {
            "text/plain": [
              "Text(0.5, 0, 'Listing price in $')"
            ]
          },
          "metadata": {
            "tags": []
          },
          "execution_count": 14
        },
        {
          "output_type": "display_data",
          "data": {
            "image/png": "[encoded data removed]",
            "text/plain": [
              "<Figure size 432x288 with 1 Axes>"
            ]
          },
          "metadata": {
            "tags": [],
            "needs_background": "light"
          }
        }
      ]
    },
    {
      "cell_type": "code",
      "metadata": {
        "colab": {
          "base_uri": "https://localhost:8080/",
          "height": 289
        },
        "id": "pWe5p5pxTAd0",
        "outputId": "60e33ba2-c7ca-444d-d196-6abb431a326a"
      },
      "source": [
        "#checking the distribution of host_identity_verified\n",
        "myListings['host_identity_verified'].value_counts().plot(kind='bar')"
      ],
      "execution_count": 15,
      "outputs": [
        {
          "output_type": "execute_result",
          "data": {
            "text/plain": [
              "<matplotlib.axes._subplots.AxesSubplot at 0x7f223a081d50>"
            ]
          },
          "metadata": {
            "tags": []
          },
          "execution_count": 15
        },
        {
          "output_type": "display_data",
          "data": {
            "image/png": "[encoded data removed]",
            "text/plain": [
              "<Figure size 432x288 with 1 Axes>"
            ]
          },
          "metadata": {
            "tags": [],
            "needs_background": "light"
          }
        }
      ]
    },
    {
      "cell_type": "code",
      "metadata": {
        "id": "Thc-wUMiVKRP"
      },
      "source": [
        "#Almost 90% of the listings have the identity of their owners verified => removing 'host_identity_verified' + 'host_verifications'\n",
        "myListings = myListings.drop(columns=['host_identity_verified', 'host_verifications'])"
      ],
      "execution_count": 16,
      "outputs": []
    },
    {
      "cell_type": "code",
      "metadata": {
        "colab": {
          "base_uri": "https://localhost:8080/",
          "height": 291
        },
        "id": "VRdKEc04WVGA",
        "outputId": "c5dd3d80-e182-4bf3-83fa-1f5bfd843eaa"
      },
      "source": [
        "#checking the distribution of host_has_profile_pic\n",
        "myListings['host_has_profile_pic'].value_counts().plot(kind='bar')"
      ],
      "execution_count": 17,
      "outputs": [
        {
          "output_type": "execute_result",
          "data": {
            "text/plain": [
              "<matplotlib.axes._subplots.AxesSubplot at 0x7f223a0b14d0>"
            ]
          },
          "metadata": {
            "tags": []
          },
          "execution_count": 17
        },
        {
          "output_type": "display_data",
          "data": {
            "image/png": "[encoded data removed]",
            "text/plain": [
              "<Figure size 432x288 with 1 Axes>"
            ]
          },
          "metadata": {
            "tags": [],
            "needs_background": "light"
          }
        }
      ]
    },
    {
      "cell_type": "code",
      "metadata": {
        "id": "PRMqizmrX2z7"
      },
      "source": [
        "#removing host_has_profile_pic\n",
        "myListings = myListings.drop(columns=['host_has_profile_pic'])"
      ],
      "execution_count": 18,
      "outputs": []
    },
    {
      "cell_type": "code",
      "metadata": {
        "colab": {
          "base_uri": "https://localhost:8080/",
          "height": 353
        },
        "id": "FUBQ7JCBg5F6",
        "outputId": "11a09abf-cca2-45de-d5b0-17d3263e94c2"
      },
      "source": [
        "(myListings['room_type'].value_counts()*100/len(myListings)).plot(kind='bar')"
      ],
      "execution_count": 19,
      "outputs": [
        {
          "output_type": "execute_result",
          "data": {
            "text/plain": [
              "<matplotlib.axes._subplots.AxesSubplot at 0x7f2239fb8450>"
            ]
          },
          "metadata": {
            "tags": []
          },
          "execution_count": 19
        },
        {
          "output_type": "display_data",
          "data": {
            "image/png": "[encoded data removed]",
            "text/plain": [
              "<Figure size 432x288 with 1 Axes>"
            ]
          },
          "metadata": {
            "tags": [],
            "needs_background": "light"
          }
        }
      ]
    },
    {
      "cell_type": "code",
      "metadata": {
        "id": "L6o-o-_2hz7x"
      },
      "source": [
        "#removing room type : hotel room \n",
        "myListings = myListings.query(\"room_type != 'Hotel room'\")"
      ],
      "execution_count": 20,
      "outputs": []
    },
    {
      "cell_type": "code",
      "metadata": {
        "colab": {
          "base_uri": "https://localhost:8080/",
          "height": 353
        },
        "id": "jMz5WDpzj1qH",
        "outputId": "8a17ac91-5b37-426f-9f68-d3cef8f6a01f"
      },
      "source": [
        "(myListings['room_type'].value_counts()*100/len(myListings)).plot(kind='bar')"
      ],
      "execution_count": 21,
      "outputs": [
        {
          "output_type": "execute_result",
          "data": {
            "text/plain": [
              "<matplotlib.axes._subplots.AxesSubplot at 0x7f2239fbf110>"
            ]
          },
          "metadata": {
            "tags": []
          },
          "execution_count": 21
        },
        {
          "output_type": "display_data",
          "data": {
            "image/png": "[encoded data removed]",
            "text/plain": [
              "<Figure size 432x288 with 1 Axes>"
            ]
          },
          "metadata": {
            "tags": [],
            "needs_background": "light"
          }
        }
      ]
    },
    {
      "cell_type": "code",
      "metadata": {
        "colab": {
          "base_uri": "https://localhost:8080/",
          "height": 297
        },
        "id": "1fS0j3K6JbmY",
        "outputId": "928b7120-bfbe-420f-e4a2-6931fa3c305e"
      },
      "source": [
        "#price distribution depending on the listing type (entire unit, private room, shared room)\n",
        "myListings.loc[(myListings.price <= 655)].pivot(columns = 'room_type', values = 'price').plot.hist(stacked = True, bins=100)\n",
        "plt.xlabel('Listing price in $')"
      ],
      "execution_count": 22,
      "outputs": [
        {
          "output_type": "execute_result",
          "data": {
            "text/plain": [
              "Text(0.5, 0, 'Listing price in $')"
            ]
          },
          "metadata": {
            "tags": []
          },
          "execution_count": 22
        },
        {
          "output_type": "display_data",
          "data": {
            "image/png": "[encoded data removed]",
            "text/plain": [
              "<Figure size 432x288 with 1 Axes>"
            ]
          },
          "metadata": {
            "tags": [],
            "needs_background": "light"
          }
        }
      ]
    },
    {
      "cell_type": "code",
      "metadata": {
        "id": "p3aZvo5kCjID"
      },
      "source": [
        "#OneHot encoding of 'room_type' \n",
        "myListings_oneHot = myListings.copy()\n",
        "myListings_oneHot = pd.get_dummies(myListings_oneHot, columns=[\"room_type\"], prefix=['room_type'])"
      ],
      "execution_count": null,
      "outputs": []
    }
  ]
}